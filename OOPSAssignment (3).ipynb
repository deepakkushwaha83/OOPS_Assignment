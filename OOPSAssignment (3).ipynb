{
 "cells": [
  {
   "cell_type": "markdown",
   "id": "99a18b92-81e1-4dc4-9c30-2478a652be08",
   "metadata": {},
   "source": [
    "OOPS Questions and Answers:-"
   ]
  },
  {
   "cell_type": "markdown",
   "id": "5288837e-3f72-42f6-a1e3-82e4c2fc5d99",
   "metadata": {},
   "source": [
    "# Q-1 What is Object-Oriented Programming (OOP)?\n",
    "Ans-> To map the real world scenarios,we started using objects in code.This is called as OOPS i.e. object oriented programming."
   ]
  },
  {
   "cell_type": "markdown",
   "id": "dab7e7bb-0eb5-457f-b5fb-d07328b1929a",
   "metadata": {},
   "source": [
    "# Q-2 What is a class in OOP?\n",
    "Ans->Class is a blue-print for creating objects.\n",
    "     Syntax of class:\n",
    "        class Student:\n",
    "            name=\"Karan\""
   ]
  },
  {
   "cell_type": "markdown",
   "id": "ff2c41c7-7b49-4003-83fc-e0c1d957fbdf",
   "metadata": {},
   "source": [
    "# Q-3 What is an object in OOP?\n",
    "Ans->Instance of a class is defined as object in OOP.\n",
    "    for example:Let's assume the above code:\n",
    "         class Student:\n",
    "            name=\"Karan\"\n",
    "         #creating object\n",
    "         s1 = Student()\n",
    "         print(s1.name)"
   ]
  },
  {
   "cell_type": "markdown",
   "id": "7f2867b0-6d36-4345-9630-c9c53e08c405",
   "metadata": {},
   "source": [
    "# Q-4 What is the difference between abstraction and encapsulation\n",
    "Ans->Abstraction:-Hiding the complex implementation details of a class and only showing the essential features to the user.This is called as abstraction.\n",
    "     Encapsulation:-Wrapping data and functions or methods into a single unit is called as Encapsulation."
   ]
  },
  {
   "cell_type": "markdown",
   "id": "bb6daa5a-c067-409e-91c7-b2011ce62320",
   "metadata": {},
   "source": [
    "# Q-5 What are dunder methods in Python?\n",
    "Ans->Dunder methods are also called as magic or special methods.These are the methods defined by built-in classes in python.\n",
    "    Classes define these type of methods for creating custom objects.\n",
    "    It helps in implementing the operator overloading.\n",
    "    All the methods surrounding double underscore is a dunder method.\n",
    "    Some dunder methods are: __init__ , __new__ , __repr__ , __str__ etc."
   ]
  },
  {
   "cell_type": "markdown",
   "id": "aae60be0-7487-4fff-98d7-819166bda5cd",
   "metadata": {},
   "source": [
    "# Q-6 Explain the concept of inheritance in OOP.\n",
    "Ans->It refers the process of child class or derived class inherits the properties of parent class or base class.This is called as Inheritance in OOP.\n",
    "    There are different kinds of inheritance. These are:\n",
    "    i) Single Inheritance\n",
    "    ii)Multi-level Inheritance\n",
    "    iii)Multiple Inheritance\n",
    "    iv)Hierarchical Inheritance\n",
    "    v) Hybrid Inheritance"
   ]
  },
  {
   "cell_type": "markdown",
   "id": "84cc811d-c3a5-4f9b-81b1-954b2cc3ad93",
   "metadata": {},
   "source": [
    "# Q-7 What is polymorphism in OOP?\n",
    "Ans->Poly means many and morph means form. It means it refers to an object taking several forms depending on the methods.\n",
    "    Polymorphism in OOPS takes place in two ways:\n",
    "    i) Method overriding\n",
    "    ii) Method overloading"
   ]
  },
  {
   "cell_type": "markdown",
   "id": "daaae6d8-bc8e-435b-995e-c38b1456e7b1",
   "metadata": {},
   "source": [
    "# Q-8 How is encapsulation achieved in Python?\n",
    "Ans->In Python, encapsulation is achieved by restricting access to the internal details of an object and only exposing the necessary interface. It helps     protect an object's state and allows controlled access to its attributes and methods.\n",
    "    In Python, encapsulation is typically achieved by:\n",
    "       Using public, private and protected attributes and methods.\n",
    "       Using getter and setter methods to access and modify private attributes."
   ]
  },
  {
   "cell_type": "markdown",
   "id": "5251d325-f54d-48e3-8879-f75acf36dd3f",
   "metadata": {},
   "source": [
    "# Q-9 What is a constructor in Python?\n",
    "Ans->In Python, a constructor is a special method used to initialize the objects of a class. It is called automatically when a new instance of the class      is created. The constructor method is defined using the __init__ method."
   ]
  },
  {
   "cell_type": "markdown",
   "id": "60b885f4-e83a-4502-8949-e0d313a0418e",
   "metadata": {},
   "source": [
    "# Q-10 What are class and static methods in Python?\n",
    "Ans->Class Methods:- Bound to the class,access or modify the methods and attributes associated to the class.Class method is defined as @classmethod           decorator.\n",
    "     Static Methods:- It doesn't modify the class or instance state.It behaves like plain function that belongs to the class.It doesn't take either self      or cls.It does not depend on the class/instance.To use staticmethod we use @staticmethod."
   ]
  },
  {
   "cell_type": "markdown",
   "id": "0bdafe9a-654a-45f2-9d34-8d43896177c3",
   "metadata": {},
   "source": [
    "# Q-11 What is method overloading in Python?\n",
    "Ans->In python,method overloading is not supported in a traditional sense as it is in some other programming languages like Java, C++ etc.However, you        can simulate method overloading by using default arguments, variable-length arguments (*args and **kwargs), or explicitly checking the number and        types of arguments passed to a method."
   ]
  },
  {
   "cell_type": "markdown",
   "id": "a49b4ed1-6be5-4e48-a2bb-8020b2f6ac60",
   "metadata": {},
   "source": [
    "# Q-12 What is method overriding in OOP?\n",
    "Ans-> Methods in parent class and child class with the same signature,the child method will be executed.Child method overrides the parent class. This is called as method overriding in OOP."
   ]
  },
  {
   "cell_type": "markdown",
   "id": "08402382-8b8e-4c63-bcff-21fabbf175a4",
   "metadata": {},
   "source": [
    "# Q-13 What is a property decorator in Python?\n",
    "Ans->It allows method to be accessed as attribute or data using property decorator allowing for controlled access and modification of an object's             attributes.\n",
    "    We can use property using syntax @property."
   ]
  },
  {
   "cell_type": "markdown",
   "id": "abd111fb-15e5-48ac-969f-a3f277530b6e",
   "metadata": {},
   "source": [
    "# Q-14 Why is polymorphism important in OOP?\n",
    "Ans->Polymorphism is one of the fundamental concepts of Object-Oriented Programming (OOP), and it plays a crucial role in making your code more              flexible, reusable, and maintainable. In simple terms, polymorphism allows objects of different classes to be treated as objects of a common             superclass, especially when they share the same method or interface."
   ]
  },
  {
   "cell_type": "markdown",
   "id": "ae8e02ee-dfdc-4df1-9cae-4c2751520ec3",
   "metadata": {},
   "source": [
    "# Q-15 What is an abstract class in Python?\n",
    "Ans->An abstract class in Python is a class that cannot be instantiated directly and is meant to be subclassed by other classes. It serves as a               blueprint for other classes and defines a common interface, with the intention that subclasses will implement the abstract methods."
   ]
  },
  {
   "cell_type": "markdown",
   "id": "ecc66a74-2ba3-45ee-b492-af78f2ab2f2e",
   "metadata": {},
   "source": [
    "# Q-16 What are the advantages of OOP?\n",
    "Ans->Object-Oriented Programming (OOP) is a programming paradigm that organizes software design around objects, which can contain both data and methods.     OOP offers several significant advantages, making it one of the most widely used paradigms in modern software development. Below are the key             advantages of OOP:\n",
    "    i) polymorphism\n",
    "    ii) abstraction\n",
    "    iii) inheritance\n",
    "    iv)encapsulation\n",
    "    v)maintainability\n",
    "    vi) extensibility"
   ]
  },
  {
   "cell_type": "markdown",
   "id": "d16214c6-2334-4784-8b02-6675b227353d",
   "metadata": {},
   "source": [
    "# Q-17 What is the difference between a class variable and an instance variable?\n",
    "Ans->Class variables are shared by all instances of a class, and they are useful for storing values that should remain constant across all objects of         the class.\n",
    "    Instance variables are unique to each object, allowing each instance to store its own data independently."
   ]
  },
  {
   "cell_type": "markdown",
   "id": "a355adaa-7326-425d-b9eb-426ca0fdb516",
   "metadata": {},
   "source": [
    "# Q-18 What is multiple inheritance in Python?\n",
    "Ans->One child class inherit the property of multiple parent class.This is called as multiple inheritance.\n",
    "    e.g.\n",
    "    class ParentClass1:\n",
    "        def method1(self):\n",
    "            print(\"Method1 of Parent Class1\")\n",
    "    class ParentClass2:\n",
    "        def method2(self):\n",
    "            print(\"Method2 of Parent Class2\")\n",
    "    class ChildClass(ParentClass1,ParentClass2):\n",
    "        def childMethod(self):\n",
    "            print(\"Method Of child class\")\n",
    "    #creating instance of the child class\n",
    "    c1 = ChildClass()\n",
    "    c1.childMethod()\n",
    "    c1.method1()\n",
    "    c1.method2()"
   ]
  },
  {
   "cell_type": "markdown",
   "id": "5abbe2c8-298e-4cc9-9a37-ac76bc6580f4",
   "metadata": {},
   "source": [
    "# Q-19 Explain the purpose of ‘’__str__’ and ‘__repr__’ ‘ methods in Python.\n",
    "Ans->__str__ :-This returns string representation of the methods\n",
    "    __repr__ :- It means representation. It returns unambiguous string representation of the object as it is that can be used to recreate the object."
   ]
  },
  {
   "cell_type": "markdown",
   "id": "11fb9731-b2d4-4109-baa7-42b37878157d",
   "metadata": {},
   "source": [
    "# Q-20 What is the significance of the ‘super()’ function in Python?\n",
    "Ans->The super() function in Python is used to call a method from a parent class (also known as a superclass) from within a subclass. It allows you to        access and invoke the methods or properties of a parent class, which is especially useful in the context of inheritance and method overriding."
   ]
  },
  {
   "cell_type": "markdown",
   "id": "6e879041-7b53-43a2-93bb-1bca356d708a",
   "metadata": {},
   "source": [
    "# Q-21 What is the significance of the __del__ method in Python?\n",
    "Ans->In Python, the __del__ method is a destructor method that is called when an object is about to be destroyed (garbage collected). It allows you to        define custom cleanup behavior for an object before it is removed from memory."
   ]
  },
  {
   "cell_type": "markdown",
   "id": "47841105-62ec-439a-8182-c28be6d31d78",
   "metadata": {},
   "source": [
    "Q-22 What is the difference between @staticmethod and @classmethod in Python?\n",
    "Ans->@staticmethod: A method that doesn't require access to the instance (self) or class (cls). It’s a method that logically belongs to the class, but       it doesn’t interact with instance or class attributes. Use it when the method doesn’t depend on class or instance data.\n",
    "\n",
    "    @classmethod: A method that takes the class as the first argument (cls) and can operate on class-level attributes or methods. Use it when you need       to access or modify class-level data, or when implementing factory methods that return instances of the class."
   ]
  },
  {
   "cell_type": "markdown",
   "id": "1709ce40-d327-4da5-8720-e6c15198c589",
   "metadata": {},
   "source": [
    "Q-23 How does polymorphism work in Python with inheritance?\n",
    "Ans->Polymorphism in Python (and in Object-Oriented Programming in general) refers to the ability of different objects to respond to the same method         call in different ways. This concept allows us to write more generic and flexible code by using the same interface (method or function) for objects      of different classes.\n",
    "    In Python, polymorphism works through inheritance and method overriding. Specifically, polymorphism is achieved when a subclass provides its own         implementation of a method that is already defined in its parent class, allowing it to behave differently"
   ]
  },
  {
   "cell_type": "markdown",
   "id": "6d09e55e-ab95-4750-8656-955550b5b40a",
   "metadata": {},
   "source": [
    "Q-24 What is method chaining in Python OOP?\n",
    "Ans->Method chaining in Python (or in Object-Oriented Programming in general) refers to a technique where multiple methods are called on the same object     in a single line of code, each call performing some operation on the object and returning the object itself, so that the next method can be called       on it."
   ]
  },
  {
   "cell_type": "markdown",
   "id": "5c5c4ce3-6c5d-4bae-b4c4-76cd939aa50c",
   "metadata": {},
   "source": [
    "Q-25 What is the purpose of the __call__ method in Python?\n",
    "Ans->The __call__ method in Python is a special method (also known as a magic method or dunder method) that allows an instance of a class to be called        like a function. When an instance of a class with a __call__ method is called, Python invokes the __call__ method, allowing objects to behave like       functions."
   ]
  },
  {
   "cell_type": "markdown",
   "id": "ed6f5032-bf00-4aed-b1ed-9c5fc70420e9",
   "metadata": {},
   "source": [
    "Practical Questions and Their Codes:-"
   ]
  },
  {
   "cell_type": "code",
   "execution_count": 5,
   "id": "a0f75971-83b2-4f41-99ee-f93de9a63af5",
   "metadata": {},
   "outputs": [
    {
     "name": "stdout",
     "output_type": "stream",
     "text": [
      "Bark\n"
     ]
    }
   ],
   "source": [
    "#Q-1 Create a parent class Animal with a method speak() that prints a generic message. Create a child class Dog that overrides the speak() method to print \"Bark!\".\n",
    "\n",
    "class Animal:\n",
    "    def speak(self):\n",
    "        print(\"Animal Sound\")\n",
    "\n",
    "class Dog(Animal):\n",
    "    def speak(self):\n",
    "        print(\"Bark\")\n",
    "\n",
    "obj = Dog()\n",
    "obj.speak()"
   ]
  },
  {
   "cell_type": "code",
   "execution_count": 7,
   "id": "75e50844-d1d7-40d6-83b2-51083b854eea",
   "metadata": {},
   "outputs": [
    {
     "name": "stdout",
     "output_type": "stream",
     "text": [
      "Area of the circle:78.5\n",
      "Area of the rectagle:108\n"
     ]
    }
   ],
   "source": [
    "#Q-2 Write a program to create an abstract class Shape with a method area().Derive classes Circle and Rectangle from it and implement the area() method in both\n",
    "\n",
    "import abc\n",
    "class shape:\n",
    "    @abc.abstractmethod #abstract base class\n",
    "    def area(self):\n",
    "        pass\n",
    "\n",
    "class circle(shape):\n",
    "    def __init__(self,radius):\n",
    "        self.radius = radius\n",
    "\n",
    "    def area(self):\n",
    "        return 3.14*self.radius**2\n",
    "    \n",
    "class rectangle(shape):\n",
    "    def __init__(self,length,breadth):\n",
    "        self.length = length\n",
    "        self.breadth = breadth\n",
    "    def area(self):\n",
    "        return self.length*self.breadth\n",
    "\n",
    "\n",
    "cir = circle(5)\n",
    "print(f\"Area of the circle:{cir.area()}\")\n",
    "\n",
    "rec = rectangle(12,9)\n",
    "print(f\"Area of the rectagle:{rec.area()}\")"
   ]
  },
  {
   "cell_type": "code",
   "execution_count": 9,
   "id": "dc4c0ec3-2ba4-4ca5-8985-29ee2b5bd9d0",
   "metadata": {},
   "outputs": [
    {
     "name": "stdout",
     "output_type": "stream",
     "text": [
      "This is a electric car\n",
      "This is a vehicle\n",
      "This is a car\n"
     ]
    }
   ],
   "source": [
    "#Q-3 Implement a multi-level inheritance scenario where a class Vehicle has an attribute type.Derive a class Car and further derive a class ElectricCar that adds a battery attribute\n",
    "\n",
    "class Vehicle:\n",
    "    def vehicle(self):\n",
    "        print(\"This is a vehicle\")\n",
    "\n",
    "class Car(Vehicle):\n",
    "    def car(self):\n",
    "        print(\"This is a car\")\n",
    "\n",
    "class ElectricCar(Car):\n",
    "    def electriccar(self):\n",
    "        print(\"This is a electric car\")\n",
    "\n",
    "obj = ElectricCar()\n",
    "obj.electriccar()\n",
    "obj.vehicle()\n",
    "obj.car()"
   ]
  },
  {
   "cell_type": "code",
   "execution_count": 11,
   "id": "e6d957b4-890d-467d-8d93-ac4c4e81b003",
   "metadata": {},
   "outputs": [
    {
     "name": "stdout",
     "output_type": "stream",
     "text": [
      "This is a electric car\n",
      "This is a vehicle\n",
      "This is a car\n"
     ]
    }
   ],
   "source": [
    "#Q-4 Implement a multi-level inheritance scenario where a class Vehicle has an attribute type.Derive a class Car and further derive a class ElectricCar that adds a battery attribute.\n",
    "\n",
    "class Vehicle:\n",
    "    def vehicle(self):\n",
    "        print(\"This is a vehicle\")\n",
    "\n",
    "class Car(Vehicle):\n",
    "    def car(self):\n",
    "        print(\"This is a car\")\n",
    "\n",
    "class ElectricCar(Car):\n",
    "    def electriccar(self):\n",
    "        print(\"This is a electric car\")\n",
    "\n",
    "obj = ElectricCar()\n",
    "obj.electriccar()\n",
    "obj.vehicle()\n",
    "obj.car()"
   ]
  },
  {
   "cell_type": "code",
   "execution_count": 13,
   "id": "c7c03730-1eaf-4c97-9f4a-d7225f002977",
   "metadata": {},
   "outputs": [
    {
     "name": "stdout",
     "output_type": "stream",
     "text": [
      "Deposited:1200\n",
      "Withdraw:100\n",
      "Balance:2100\n"
     ]
    }
   ],
   "source": [
    "#Q-5 Write a program to demonstrate encapsulation by creating a class BankAccount with private attributes balance and methods to deposit, withdraw, and check balance\n",
    "\n",
    "class BankAccount:\n",
    "    def __init__(self,balance=0):\n",
    "        self.__balance = balance    # Private Attributes\n",
    "\n",
    "    def deposit(self,amount):\n",
    "        if amount>0:\n",
    "            self.__balance=self.__balance + amount\n",
    "            print(f\"Deposited:{amount}\")\n",
    "        else:\n",
    "            print(\"Deposit amount must be positive\")\n",
    "\n",
    "    def withdraw(self,amount):\n",
    "        if amount>0:\n",
    "            self.__balance = self.__balance-amount\n",
    "            print(f\"Withdraw:{amount}\")\n",
    "        elif amount<=self.__balance:\n",
    "            self.__balance = self.__balance - amount\n",
    "            print(f\"Withdraw:{amount}\")\n",
    "        elif amount>self.__balance:\n",
    "            print(\"Insufficient Funds\")\n",
    "        else:\n",
    "            print(\"Withdrawal amount must be positive\")\n",
    "\n",
    "    def check_balance(self):\n",
    "        return f\"Balance:{self.__balance}\"\n",
    "\n",
    "account = BankAccount(1000)\n",
    "account.deposit(1200)\n",
    "account.withdraw(100)\n",
    "check = account.check_balance()\n",
    "print(check)"
   ]
  },
  {
   "cell_type": "code",
   "execution_count": 15,
   "id": "0bd45bb0-229e-4ec3-88ac-0fd9135cabb7",
   "metadata": {},
   "outputs": [
    {
     "name": "stdout",
     "output_type": "stream",
     "text": [
      "Guitar is strumming\n",
      "Piano is playing chords\n"
     ]
    }
   ],
   "source": [
    "#Q-6 Demonstrate runtime polymorphism using a method play() in a base class Instrument.Derive classes Guitar and Piano that implement their own version of play()\n",
    "\n",
    "class Instrument:\n",
    "    def play(self):\n",
    "        print(\"Instrument sound\")\n",
    "class Guitar(Instrument):\n",
    "    def play(self):\n",
    "        print(\"Guitar is strumming\")\n",
    "\n",
    "class Piano(Instrument):\n",
    "    def play(self):\n",
    "        print(\"Piano is playing chords\")\n",
    "\n",
    "def test_instrument_play(Instrument):\n",
    "    Instrument.play()\n",
    "\n",
    "instrument = Instrument()\n",
    "guitar = Guitar()\n",
    "piano = Piano()\n",
    "\n",
    "test_instrument_play(guitar)\n",
    "test_instrument_play(piano)"
   ]
  },
  {
   "cell_type": "code",
   "execution_count": 17,
   "id": "64944945-cbe9-41a4-807f-e328fb5c9e26",
   "metadata": {},
   "outputs": [
    {
     "name": "stdout",
     "output_type": "stream",
     "text": [
      "11\n",
      "2\n"
     ]
    }
   ],
   "source": [
    "#Q-7 Create a class MathOperations with a class method add_numbers() to add two numbers and a static method subtract_numbers() to subtract two numbers\n",
    "\n",
    "class MathOperations:\n",
    "    @classmethod\n",
    "    def add_numbers(cls,x,y):\n",
    "        return x+y\n",
    "\n",
    "    @staticmethod\n",
    "    def subtract_numbers(x,y):\n",
    "        return x-y\n",
    "\n",
    "add = MathOperations.add_numbers(5,6)\n",
    "print(add)\n",
    "sub = MathOperations.subtract_numbers(10,8)\n",
    "print(sub)"
   ]
  },
  {
   "cell_type": "code",
   "execution_count": 19,
   "id": "6b638d5c-a6ef-43ed-920f-ba47acb24b72",
   "metadata": {},
   "outputs": [
    {
     "name": "stdout",
     "output_type": "stream",
     "text": [
      "0\n",
      "3\n"
     ]
    }
   ],
   "source": [
    "# Q-8 Implement a class Person with a class method to count the total number of persons created\n",
    "\n",
    "class Person:\n",
    "    total_person = 0\n",
    "    def __init__(self,name):\n",
    "        self.name = name\n",
    "        Person.total_person = Person.total_person+1\n",
    "\n",
    "    @classmethod\n",
    "    def get_totalPerson(cls):\n",
    "        return cls.total_person\n",
    "\n",
    "total = Person.total_person\n",
    "print(total)\n",
    "per1 = Person('Deepak')\n",
    "per2 = Person('Aman')\n",
    "per3 = Person('Sahil')\n",
    "total = Person.total_person\n",
    "print(total)"
   ]
  },
  {
   "cell_type": "code",
   "execution_count": 21,
   "id": "57a3584d-7f5a-43e1-8c50-a336488157c9",
   "metadata": {},
   "outputs": [
    {
     "name": "stdout",
     "output_type": "stream",
     "text": [
      "3/4\n"
     ]
    }
   ],
   "source": [
    "#Q-9 Write a class Fraction with attributes numerator and denominator. Override the str method to display the fraction as \"numerator/denominator\"\n",
    "\n",
    "\n",
    "class Fraction:\n",
    "    def __init__(self, numerator, denominator):\n",
    "        self.numerator = numerator\n",
    "        self.denominator = denominator\n",
    "\n",
    "    # Override the str method to return the fraction as a string\n",
    "    def __str__(self):\n",
    "        return f\"{self.numerator}/{self.denominator}\"\n",
    "\n",
    "# Creating a fraction instance\n",
    "fraction = Fraction(3, 4)\n",
    "\n",
    "# Printing the fraction\n",
    "print(fraction)"
   ]
  },
  {
   "cell_type": "code",
   "execution_count": 23,
   "id": "0e6165fc-4a0d-47cf-9531-b339e82c958c",
   "metadata": {},
   "outputs": [
    {
     "name": "stdout",
     "output_type": "stream",
     "text": [
      "v1 + v2 = (6, 4)\n"
     ]
    }
   ],
   "source": [
    "#Q-10 Demonstrate operator overloading by creating a class Vector and overriding the add method to add two vectors\n",
    "\n",
    "class Vector:\n",
    "    def __init__(self, x, y):\n",
    "        self.x = x\n",
    "        self.y = y\n",
    "\n",
    "    # Overload the + operator\n",
    "    def __add__(self, other):\n",
    "        return Vector(self.x + other.x, self.y + other.y)\n",
    "\n",
    "    def __repr__(self):\n",
    "        return f\"({self.x}, {self.y})\"\n",
    "\n",
    "# Create two vector instances\n",
    "v1 = Vector(2, 3)\n",
    "v2 = Vector(4, 1)\n",
    "\n",
    "# Add the vectors\n",
    "v3 = v1 + v2\n",
    "\n",
    "print(f\"v1 + v2 = {v3}\")"
   ]
  },
  {
   "cell_type": "code",
   "execution_count": 25,
   "id": "33ce93dd-81a8-4efc-9832-98e32a9ea622",
   "metadata": {},
   "outputs": [
    {
     "name": "stdout",
     "output_type": "stream",
     "text": [
      "Hello,my Deepak and I am 22 years old\n"
     ]
    }
   ],
   "source": [
    "# Q-11 Create a class Person with attributes name and age. Add a method greet() that prints \"Hello, my name is {name} and I am {age} years old.\n",
    "\n",
    "class Person:\n",
    "    def __init__(self,name,age):\n",
    "        self.name = name\n",
    "        self.age = age\n",
    "\n",
    "    def greet(self):\n",
    "        print(f\"Hello,my {self.name} and I am {self.age} years old\")\n",
    "\n",
    "person = Person('Deepak',22)\n",
    "person.greet()"
   ]
  },
  {
   "cell_type": "code",
   "execution_count": 27,
   "id": "9374f448-810c-4aaa-929e-11a86cac123f",
   "metadata": {},
   "outputs": [
    {
     "name": "stdout",
     "output_type": "stream",
     "text": [
      "Name of the student: Deepak\n",
      "Average Grades :82.75\n"
     ]
    }
   ],
   "source": [
    "#Q-12 Implement a class Student with attributes name and grades. Create a method average_grade() to compute the average of the grades\n",
    "\n",
    "class Student:\n",
    "    def __init__(self,name,grades):\n",
    "        self.name = name\n",
    "        self.grades = grades\n",
    "\n",
    "    def average_grades(self):\n",
    "        if len(self.grades) == 0:\n",
    "            return 0\n",
    "        else:\n",
    "            return sum(self.grades)/len(self.grades)\n",
    "\n",
    "stud1 = Student('Deepak',[89,78,97,67])\n",
    "print(f\"Name of the student: {stud1.name}\\nAverage Grades :{stud1.average_grades()}\")"
   ]
  },
  {
   "cell_type": "code",
   "execution_count": 29,
   "id": "e83dcdba-2b5e-4732-a175-1a5271cd8774",
   "metadata": {},
   "outputs": [
    {
     "name": "stdout",
     "output_type": "stream",
     "text": [
      "Area of the rectangle:460\n"
     ]
    }
   ],
   "source": [
    "#Q-13 Create a class Rectangle with methods set_dimensions() to set the dimensions and area() to calculate the area\n",
    "\n",
    "class Rectangle:\n",
    "    def __init__(self):\n",
    "        self.length = 0\n",
    "        self.width = 0\n",
    "\n",
    "    def set_dimensions(self,length,width):\n",
    "        self.length = length\n",
    "        self.width = width\n",
    "\n",
    "    def area(self):\n",
    "        return self.length*self.width\n",
    "\n",
    "rect = Rectangle()\n",
    "rect.set_dimensions(23,20)\n",
    "print(f\"Area of the rectangle:{rect.area()}\")"
   ]
  },
  {
   "cell_type": "code",
   "execution_count": 31,
   "id": "5c3a7cb8-62c1-40b5-b4e1-fd0b1d3039c5",
   "metadata": {},
   "outputs": [
    {
     "name": "stdout",
     "output_type": "stream",
     "text": [
      "John's Salary : 13000\n",
      "John's Salary Including Bonus:14200\n"
     ]
    }
   ],
   "source": [
    "#Q-14 Create a class Employee with a method calculate_salary() that computes the salary based on hours worked and hourly rate. Create a derived class Manager that adds a bonus to the salary\n",
    "\n",
    "class Employee:\n",
    "    def __init__(self,name,hours_worked,hourly_rate):\n",
    "        self.name = name\n",
    "        self.hours_worked = hours_worked\n",
    "        self.hourly_rate = hourly_rate\n",
    "\n",
    "    def calculate_salary(self):\n",
    "        return self.hours_worked*self.hourly_rate\n",
    "\n",
    "class Manager(Employee,):\n",
    "    def __init__(self,name,hours_worked,hourly_rate,bonus):\n",
    "        super().__init__(name,hours_worked,hourly_rate)\n",
    "        self.bonus = bonus\n",
    "\n",
    "    def calculate_salary(self):\n",
    "        base_salary = super().calculate_salary()\n",
    "        return base_salary+self.bonus\n",
    "\n",
    "employee = Employee(\"John\",130,100)\n",
    "print(f\"{employee.name}'s Salary : {employee.calculate_salary()}\")\n",
    "\n",
    "manager = Manager(\"John\",130,100,1200)\n",
    "print(f\"{manager.name}'s Salary Including Bonus:{manager.calculate_salary()}\")"
   ]
  },
  {
   "cell_type": "code",
   "execution_count": 33,
   "id": "0ddb385d-b6e9-4b81-ab8c-543fdc2478df",
   "metadata": {},
   "outputs": [
    {
     "name": "stdout",
     "output_type": "stream",
     "text": [
      "Product Name :Rice\n",
      "Price :45\n",
      "Quantity :5\n",
      "Total Price :225\n"
     ]
    }
   ],
   "source": [
    "#Q-15 Create a class Product with attributes name, price, and quantity. Implement a method total_price() that calculates the total price of the product\n",
    "class Product:\n",
    "    def __init__(self,name,price,quantity):\n",
    "        self.name = name\n",
    "        self.price = price\n",
    "        self.quantity = quantity\n",
    "\n",
    "    def total_price(self):\n",
    "        total = self.price*self.quantity\n",
    "        return total\n",
    "\n",
    "prod = Product(\"Rice\",45,5)\n",
    "print(f\"Product Name :{prod.name}\\nPrice :{prod.price}\\nQuantity :{prod.quantity}\\nTotal Price :{prod.total_price()}\")"
   ]
  },
  {
   "cell_type": "code",
   "execution_count": 35,
   "id": "3a5cb564-1d33-4cbc-b8b2-71c07d09b835",
   "metadata": {},
   "outputs": [
    {
     "name": "stdout",
     "output_type": "stream",
     "text": [
      "Moo\n",
      "Baa\n"
     ]
    }
   ],
   "source": [
    "# Q-16 Create a class Animal with an abstract method sound(). Create two derived classes Cow and Sheep that implement the sound() method\n",
    "\n",
    "import abc\n",
    "class Animal:\n",
    "    @abc.abstractmethod\n",
    "    def sound(self):\n",
    "        pass\n",
    "\n",
    "class Cow(Animal):\n",
    "    def sound(self):\n",
    "        print(\"Moo\")\n",
    "\n",
    "class Sheep(Animal):\n",
    "    def sound(self):\n",
    "        print(\"Baa\")\n",
    "\n",
    "obj = Cow()\n",
    "obj.sound()\n",
    "\n",
    "obj1 = Sheep()\n",
    "obj1.sound()"
   ]
  },
  {
   "cell_type": "code",
   "execution_count": 37,
   "id": "a0a64264-6047-45d0-89c1-722f403572f8",
   "metadata": {},
   "outputs": [
    {
     "name": "stdout",
     "output_type": "stream",
     "text": [
      "Godan by Munsi Premchand published in the year 1936\n"
     ]
    }
   ],
   "source": [
    "#Q-17 Create a class Book with attributes title, author, and year_published. Add a method get_book_info() that returns a formatted string with the book's details\n",
    "\n",
    "class Book:\n",
    "    def __init__(self,title,author,year):\n",
    "        self.title = title\n",
    "        self.author = author\n",
    "        self.year = year\n",
    "\n",
    "    def get_book_info(self):\n",
    "        print(f\"{self.title} by {self.author} published in the year {self.year}\")\n",
    "\n",
    "book = Book('Godan','Munsi Premchand',1936)\n",
    "book.get_book_info()"
   ]
  },
  {
   "cell_type": "code",
   "execution_count": 39,
   "id": "abc14089-b1ba-4765-94d0-de368f8b3b4f",
   "metadata": {},
   "outputs": [
    {
     "name": "stdout",
     "output_type": "stream",
     "text": [
      "Address:Gurugram\n",
      "Price of the Mansion:25 lacs\n",
      "Number of Rooms:4\n"
     ]
    }
   ],
   "source": [
    "# Q-18 Create a class House with attributes address and price. Create a derived class Mansion that adds an attribute number_of_rooms\n",
    "\n",
    "class House:\n",
    "    def __init__(self,address,price):\n",
    "        self.address = address\n",
    "        self.price = price\n",
    "\n",
    "class Mansion(House):\n",
    "    def __init__(self,address,price,number_of_rooms):\n",
    "        super().__init__(address,price)\n",
    "        self.number_of_rooms = number_of_rooms\n",
    "\n",
    "mansion = Mansion('Gurugram','25 lacs',4)\n",
    "print(f\"Address:{mansion.address}\\nPrice of the Mansion:{mansion.price}\\nNumber of Rooms:{mansion.number_of_rooms}\")"
   ]
  },
  {
   "cell_type": "code",
   "execution_count": null,
   "id": "33c3b4dc-7998-4307-9603-2ba67304f5b0",
   "metadata": {},
   "outputs": [],
   "source": []
  }
 ],
 "metadata": {
  "kernelspec": {
   "display_name": "Python [conda env:base] *",
   "language": "python",
   "name": "conda-base-py"
  },
  "language_info": {
   "codemirror_mode": {
    "name": "ipython",
    "version": 3
   },
   "file_extension": ".py",
   "mimetype": "text/x-python",
   "name": "python",
   "nbconvert_exporter": "python",
   "pygments_lexer": "ipython3",
   "version": "3.12.7"
  }
 },
 "nbformat": 4,
 "nbformat_minor": 5
}
